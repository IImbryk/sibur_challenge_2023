{
 "cells": [
  {
   "cell_type": "code",
   "execution_count": 201,
   "id": "a73d542f",
   "metadata": {},
   "outputs": [],
   "source": [
    "import torch\n",
    "import torch.nn as nn\n",
    "from torch.nn import functional as F\n",
    "from torch.autograd import Variable\n",
    "import pandas as pd\n",
    "import numpy as np\n",
    "from sklearn.metrics import mean_absolute_percentage_error\n",
    "from sklearn.preprocessing import StandardScaler\n",
    "from sklearn.model_selection import train_test_split\n",
    "from matplotlib import pyplot as plt"
   ]
  },
  {
   "cell_type": "code",
   "execution_count": 202,
   "id": "a1fd5b10",
   "metadata": {},
   "outputs": [
    {
     "data": {
      "text/html": [
       "<div>\n",
       "<style scoped>\n",
       "    .dataframe tbody tr th:only-of-type {\n",
       "        vertical-align: middle;\n",
       "    }\n",
       "\n",
       "    .dataframe tbody tr th {\n",
       "        vertical-align: top;\n",
       "    }\n",
       "\n",
       "    .dataframe thead th {\n",
       "        text-align: right;\n",
       "    }\n",
       "</style>\n",
       "<table border=\"1\" class=\"dataframe\">\n",
       "  <thead>\n",
       "    <tr style=\"text-align: right;\">\n",
       "      <th></th>\n",
       "      <th>feature0</th>\n",
       "      <th>feature1</th>\n",
       "      <th>feature2</th>\n",
       "      <th>feature3</th>\n",
       "      <th>feature4</th>\n",
       "      <th>feature5</th>\n",
       "      <th>feature6</th>\n",
       "      <th>feature7</th>\n",
       "      <th>feature8</th>\n",
       "      <th>feature9</th>\n",
       "      <th>...</th>\n",
       "      <th>feature17</th>\n",
       "      <th>feature18</th>\n",
       "      <th>feature19</th>\n",
       "      <th>feature20</th>\n",
       "      <th>feature21</th>\n",
       "      <th>feature22</th>\n",
       "      <th>feature23</th>\n",
       "      <th>feature24</th>\n",
       "      <th>target0</th>\n",
       "      <th>target1</th>\n",
       "    </tr>\n",
       "  </thead>\n",
       "  <tbody>\n",
       "    <tr>\n",
       "      <th>0</th>\n",
       "      <td>32.910908</td>\n",
       "      <td>17.376350</td>\n",
       "      <td>77.557840</td>\n",
       "      <td>2.929855</td>\n",
       "      <td>gas1</td>\n",
       "      <td>20.487150</td>\n",
       "      <td>57.633085</td>\n",
       "      <td>49.245392</td>\n",
       "      <td>-44.124381</td>\n",
       "      <td>23.400064</td>\n",
       "      <td>...</td>\n",
       "      <td>14.203652</td>\n",
       "      <td>9.689942</td>\n",
       "      <td>17.951627</td>\n",
       "      <td>24.198589</td>\n",
       "      <td>102.448710</td>\n",
       "      <td>110.529868</td>\n",
       "      <td>56.817260</td>\n",
       "      <td>12.887802</td>\n",
       "      <td>27.050891</td>\n",
       "      <td>6.502743</td>\n",
       "    </tr>\n",
       "    <tr>\n",
       "      <th>1</th>\n",
       "      <td>41.263782</td>\n",
       "      <td>22.419445</td>\n",
       "      <td>47.945514</td>\n",
       "      <td>-25.847472</td>\n",
       "      <td>gas2</td>\n",
       "      <td>21.461239</td>\n",
       "      <td>3.474080</td>\n",
       "      <td>49.659980</td>\n",
       "      <td>-13.553188</td>\n",
       "      <td>-13.047593</td>\n",
       "      <td>...</td>\n",
       "      <td>-14.451904</td>\n",
       "      <td>-0.906120</td>\n",
       "      <td>105.724742</td>\n",
       "      <td>-9.435222</td>\n",
       "      <td>-16.060150</td>\n",
       "      <td>37.286110</td>\n",
       "      <td>61.224272</td>\n",
       "      <td>39.822424</td>\n",
       "      <td>84.127890</td>\n",
       "      <td>76.578716</td>\n",
       "    </tr>\n",
       "    <tr>\n",
       "      <th>2</th>\n",
       "      <td>25.580283</td>\n",
       "      <td>17.376350</td>\n",
       "      <td>77.654180</td>\n",
       "      <td>2.799411</td>\n",
       "      <td>gas1</td>\n",
       "      <td>20.487150</td>\n",
       "      <td>28.938295</td>\n",
       "      <td>49.245392</td>\n",
       "      <td>-44.124381</td>\n",
       "      <td>20.610679</td>\n",
       "      <td>...</td>\n",
       "      <td>14.395054</td>\n",
       "      <td>9.779019</td>\n",
       "      <td>17.951638</td>\n",
       "      <td>24.999453</td>\n",
       "      <td>101.728213</td>\n",
       "      <td>111.471534</td>\n",
       "      <td>52.664304</td>\n",
       "      <td>12.887802</td>\n",
       "      <td>22.080133</td>\n",
       "      <td>3.036043</td>\n",
       "    </tr>\n",
       "    <tr>\n",
       "      <th>3</th>\n",
       "      <td>33.756900</td>\n",
       "      <td>17.376350</td>\n",
       "      <td>73.049625</td>\n",
       "      <td>2.953982</td>\n",
       "      <td>gas1</td>\n",
       "      <td>20.487150</td>\n",
       "      <td>28.932311</td>\n",
       "      <td>49.245392</td>\n",
       "      <td>-44.124381</td>\n",
       "      <td>18.107963</td>\n",
       "      <td>...</td>\n",
       "      <td>14.184314</td>\n",
       "      <td>9.798969</td>\n",
       "      <td>17.951675</td>\n",
       "      <td>23.990300</td>\n",
       "      <td>101.312113</td>\n",
       "      <td>115.589451</td>\n",
       "      <td>56.840719</td>\n",
       "      <td>12.887802</td>\n",
       "      <td>30.234082</td>\n",
       "      <td>8.910795</td>\n",
       "    </tr>\n",
       "    <tr>\n",
       "      <th>4</th>\n",
       "      <td>4.223732</td>\n",
       "      <td>38.772534</td>\n",
       "      <td>48.015553</td>\n",
       "      <td>-25.843943</td>\n",
       "      <td>gas2</td>\n",
       "      <td>24.635721</td>\n",
       "      <td>12.011581</td>\n",
       "      <td>51.030938</td>\n",
       "      <td>84.244199</td>\n",
       "      <td>-17.735680</td>\n",
       "      <td>...</td>\n",
       "      <td>-14.439953</td>\n",
       "      <td>8.262354</td>\n",
       "      <td>90.187207</td>\n",
       "      <td>-2.901661</td>\n",
       "      <td>-16.060150</td>\n",
       "      <td>37.398779</td>\n",
       "      <td>40.488468</td>\n",
       "      <td>128.295838</td>\n",
       "      <td>71.128092</td>\n",
       "      <td>50.475082</td>\n",
       "    </tr>\n",
       "  </tbody>\n",
       "</table>\n",
       "<p>5 rows × 27 columns</p>\n",
       "</div>"
      ],
      "text/plain": [
       "    feature0   feature1   feature2   feature3 feature4   feature5   feature6  \\\n",
       "0  32.910908  17.376350  77.557840   2.929855     gas1  20.487150  57.633085   \n",
       "1  41.263782  22.419445  47.945514 -25.847472     gas2  21.461239   3.474080   \n",
       "2  25.580283  17.376350  77.654180   2.799411     gas1  20.487150  28.938295   \n",
       "3  33.756900  17.376350  73.049625   2.953982     gas1  20.487150  28.932311   \n",
       "4   4.223732  38.772534  48.015553 -25.843943     gas2  24.635721  12.011581   \n",
       "\n",
       "    feature7   feature8   feature9  ...  feature17  feature18   feature19  \\\n",
       "0  49.245392 -44.124381  23.400064  ...  14.203652   9.689942   17.951627   \n",
       "1  49.659980 -13.553188 -13.047593  ... -14.451904  -0.906120  105.724742   \n",
       "2  49.245392 -44.124381  20.610679  ...  14.395054   9.779019   17.951638   \n",
       "3  49.245392 -44.124381  18.107963  ...  14.184314   9.798969   17.951675   \n",
       "4  51.030938  84.244199 -17.735680  ... -14.439953   8.262354   90.187207   \n",
       "\n",
       "   feature20   feature21   feature22  feature23   feature24    target0  \\\n",
       "0  24.198589  102.448710  110.529868  56.817260   12.887802  27.050891   \n",
       "1  -9.435222  -16.060150   37.286110  61.224272   39.822424  84.127890   \n",
       "2  24.999453  101.728213  111.471534  52.664304   12.887802  22.080133   \n",
       "3  23.990300  101.312113  115.589451  56.840719   12.887802  30.234082   \n",
       "4  -2.901661  -16.060150   37.398779  40.488468  128.295838  71.128092   \n",
       "\n",
       "     target1  \n",
       "0   6.502743  \n",
       "1  76.578716  \n",
       "2   3.036043  \n",
       "3   8.910795  \n",
       "4  50.475082  \n",
       "\n",
       "[5 rows x 27 columns]"
      ]
     },
     "execution_count": 202,
     "metadata": {},
     "output_type": "execute_result"
    }
   ],
   "source": [
    "train = pd.read_parquet(\"train.parquet\")\n",
    "train.head()"
   ]
  },
  {
   "cell_type": "code",
   "execution_count": 203,
   "id": "7b753958",
   "metadata": {},
   "outputs": [],
   "source": [
    "n_gas = 2"
   ]
  },
  {
   "cell_type": "code",
   "execution_count": 204,
   "id": "a944633f",
   "metadata": {},
   "outputs": [],
   "source": [
    "df1 = train[train.feature4 == f'gas{n_gas}']"
   ]
  },
  {
   "cell_type": "code",
   "execution_count": 205,
   "id": "08162e12",
   "metadata": {},
   "outputs": [],
   "source": [
    "columns_for_predict = ['target0', 'target1']"
   ]
  },
  {
   "cell_type": "markdown",
   "id": "b71fe4e5",
   "metadata": {},
   "source": [
    "### feature engenering"
   ]
  },
  {
   "cell_type": "code",
   "execution_count": 206,
   "id": "f164787d",
   "metadata": {},
   "outputs": [],
   "source": [
    "features = ['feature0',\n",
    " 'feature1',\n",
    " 'feature2',\n",
    " 'feature3',\n",
    " 'feature5',\n",
    " 'feature6',\n",
    " 'feature7',\n",
    " 'feature8',\n",
    " 'feature9',\n",
    " 'feature10',\n",
    " 'feature11',\n",
    " 'feature12',\n",
    " 'feature13',\n",
    " 'feature14',\n",
    " 'feature15',\n",
    " 'feature16',\n",
    " 'feature17',\n",
    " 'feature18',\n",
    " 'feature20',\n",
    " 'feature22']"
   ]
  },
  {
   "cell_type": "code",
   "execution_count": 207,
   "id": "db6545dc",
   "metadata": {},
   "outputs": [],
   "source": [
    "# features = ['feature0',\n",
    "#  'feature1',\n",
    "#  'feature11',\n",
    "#  'feature13',\n",
    "#  'feature14',\n",
    "#  'feature16',\n",
    "#  'feature20',\n",
    "#  'feature6',\n",
    "#  'feature9']"
   ]
  },
  {
   "cell_type": "code",
   "execution_count": 208,
   "id": "6ecc16b9",
   "metadata": {},
   "outputs": [],
   "source": [
    "df = df1[df1['feature8'] > -30]"
   ]
  },
  {
   "cell_type": "code",
   "execution_count": 209,
   "id": "73a5c10f",
   "metadata": {},
   "outputs": [],
   "source": [
    "X = df1[features]\n",
    "y = df1[columns_for_predict]"
   ]
  },
  {
   "cell_type": "code",
   "execution_count": 210,
   "id": "420d2de6",
   "metadata": {},
   "outputs": [],
   "source": [
    "X_train, X_test, y_train, y_test = train_test_split(X, y, test_size=0.1, random_state=41)"
   ]
  },
  {
   "cell_type": "code",
   "execution_count": 211,
   "id": "8af0e0fb",
   "metadata": {},
   "outputs": [],
   "source": [
    "### normilize data\n",
    "\n",
    "# Scaler_x_train = StandardScaler()\n",
    "# Scaler_x_test = StandardScaler()\n",
    "# Scaler_y_train = StandardScaler()\n",
    "# Scaler_y_test = StandardScaler()\n",
    "\n",
    "\n",
    "# X_train = Scaler_x_train.fit_transform(X_train)\n",
    "# y_train  = Scaler_y_train.fit_transform(y_train)\n",
    "\n",
    "# X_test = Scaler_x_test.fit_transform(X_test)\n",
    "# y_test  = Scaler_y_test.fit_transform(y_test)"
   ]
  },
  {
   "cell_type": "code",
   "execution_count": 212,
   "id": "76b1cce3",
   "metadata": {},
   "outputs": [],
   "source": [
    "X_train = X_train.values\n",
    "y_train = y_train.values\n",
    "\n",
    "X_test = X_test.values\n",
    "y_test = y_test.values"
   ]
  },
  {
   "cell_type": "code",
   "execution_count": 213,
   "id": "127e8034",
   "metadata": {},
   "outputs": [],
   "source": [
    "class Net(nn.Module):\n",
    "    def __init__(self, input_size=24):\n",
    "        super(Net, self).__init__()\n",
    "        self.fc1 = nn.Linear(input_size, 64)\n",
    "        self.fc2 = nn.Linear(64, 128)\n",
    "        self.fc21 = nn.Linear(128, 32)\n",
    "        self.fc3 = nn.Linear(32, 2)\n",
    "        \n",
    "    def forward(self, x):\n",
    "        x = F.sigmoid(self.fc1(x))\n",
    "        x = F.sigmoid(self.fc2(x))\n",
    "        x = F.sigmoid(self.fc21(x))\n",
    "        x = self.fc3(x)\n",
    "        return x\n"
   ]
  },
  {
   "cell_type": "code",
   "execution_count": 214,
   "id": "50ab411d",
   "metadata": {},
   "outputs": [],
   "source": [
    "def train(model, X_train, y_train, X_test, y_test, optimizer, criterion, batch_size, n_epochs):\n",
    "    \"\"\"\n",
    "    Для обучения нейронной сети\n",
    "    :param model:\n",
    "    :param X_train:\n",
    "    :param y_train:\n",
    "    :param X_test:\n",
    "    :param y_test:\n",
    "    :param optimizer:\n",
    "    :param criterion:\n",
    "    :param batch_size:\n",
    "    :param n_epochs:\n",
    "    :return:\n",
    "    \"\"\"\n",
    "    batch_no = len(X_train) // batch_size\n",
    "\n",
    "    train_loss = 0\n",
    "    # train_loss_min = np.Inf\n",
    "\n",
    "    loss_values_train = []\n",
    "    loss_values_test = []\n",
    "    for epoch in range(n_epochs):\n",
    "        for i in range(batch_no):\n",
    "            start = i * batch_size\n",
    "            end = start + batch_size\n",
    "            x_var = torch.FloatTensor(X_train[start:end])\n",
    "            y_var = torch.FloatTensor(y_train[start:end])\n",
    "\n",
    "            optimizer.zero_grad()  # обнулить все градиенты\n",
    "            output = model(x_var)\n",
    "            loss = criterion(output, y_var)\n",
    "            loss.backward()  # считаем градиент\n",
    "            optimizer.step()  # вызываем пошаговую функцию оптимизатора, который обновляет свои параметры.\n",
    "\n",
    "            train_loss += loss.item() * batch_size\n",
    "\n",
    "        train_loss = train_loss / len(X_train)\n",
    "\n",
    "        if epoch % 200 == 0:\n",
    "            print('')\n",
    "            print(\"Epoch: {} \\tTrain Loss: {}\".format(epoch + 1, train_loss))\n",
    "\n",
    "        # test\n",
    "        x_test_var = torch.FloatTensor(X_test)\n",
    "        y_test_var = torch.FloatTensor(y_test)\n",
    "        output = model(x_test_var)\n",
    "        test_loss = criterion(output, y_test_var)\n",
    "        test_loss = test_loss.item()\n",
    "\n",
    "        loss_values_test.append(test_loss)\n",
    "        loss_values_train.append(train_loss)\n",
    "    return model, loss_values_train, loss_values_test"
   ]
  },
  {
   "cell_type": "code",
   "execution_count": null,
   "id": "b299e3b9",
   "metadata": {},
   "outputs": [],
   "source": []
  },
  {
   "cell_type": "code",
   "execution_count": 215,
   "id": "8f799b7b",
   "metadata": {},
   "outputs": [],
   "source": [
    "batch_size = 128\n",
    "n_epochs = 300\n",
    "model = Net(input_size=X_test.shape[1])"
   ]
  },
  {
   "cell_type": "code",
   "execution_count": 216,
   "id": "c5d01923",
   "metadata": {},
   "outputs": [],
   "source": [
    "optimizer = torch.optim.SGD(model.parameters(), lr=0.001)\n",
    "criterion = nn.MSELoss()"
   ]
  },
  {
   "cell_type": "code",
   "execution_count": 217,
   "id": "f746df30",
   "metadata": {},
   "outputs": [
    {
     "name": "stdout",
     "output_type": "stream",
     "text": [
      "\n",
      "Epoch: 1 \tTrain Loss: 234.57689098629328\n",
      "\n",
      "Epoch: 201 \tTrain Loss: 0.9100755741164194\n"
     ]
    }
   ],
   "source": [
    "model,loss_values_train, loss_values_test = train(model, X_train, y_train, X_test, y_test, optimizer, criterion, batch_size, n_epochs)\n"
   ]
  },
  {
   "cell_type": "code",
   "execution_count": 219,
   "id": "ae5b65c3",
   "metadata": {},
   "outputs": [
    {
     "data": {
      "text/plain": [
       "[<matplotlib.lines.Line2D at 0x152bc6d40>]"
      ]
     },
     "execution_count": 219,
     "metadata": {},
     "output_type": "execute_result"
    },
    {
     "data": {
      "image/png": "[encoded data removed]",
      "text/plain": [
       "<Figure size 640x480 with 1 Axes>"
      ]
     },
     "metadata": {},
     "output_type": "display_data"
    }
   ],
   "source": [
    "plt.plot(loss_values_train)\n",
    "plt.plot(loss_values_test)\n",
    "# plt.ylim((0,0.1))"
   ]
  },
  {
   "cell_type": "markdown",
   "id": "dd611a2a",
   "metadata": {},
   "source": [
    "#### test"
   ]
  },
  {
   "cell_type": "code",
   "execution_count": 220,
   "id": "d8cb466b",
   "metadata": {},
   "outputs": [],
   "source": [
    "X_test_var = Variable(torch.FloatTensor(X_test), requires_grad=False) \n",
    "with torch.no_grad():\n",
    "    test_result = model(X_test_var)"
   ]
  },
  {
   "cell_type": "code",
   "execution_count": 221,
   "id": "697461ac",
   "metadata": {},
   "outputs": [],
   "source": [
    "# # inverse the y_test data back to 1,2,3,4\n",
    "# y_new_inverse = Scaler_y_test.inverse_transform(y_test)\n",
    "# y_pred_inverse = Scaler_y_test.inverse_transform(test_result)\n",
    "\n",
    "# mean_absolute_percentage_error(y_new_inverse, y_pred_inverse)"
   ]
  },
  {
   "cell_type": "code",
   "execution_count": 222,
   "id": "98ec4fb7",
   "metadata": {},
   "outputs": [
    {
     "data": {
      "text/plain": [
       "0.012387738269744706"
      ]
     },
     "execution_count": 222,
     "metadata": {},
     "output_type": "execute_result"
    }
   ],
   "source": [
    "mean_absolute_percentage_error(y_test, test_result)"
   ]
  },
  {
   "cell_type": "markdown",
   "id": "0c68282f",
   "metadata": {},
   "source": [
    "gas 2: 0.01196633358862598\n",
    "\n",
    "gas 1: 0.02328757962759617\n",
    "\n",
    "\n",
    "с нормализацией:\n",
    "\n",
    "gas 1: 0.04109559396261545\n",
    "\n",
    "gas 2: 0.01588126440058686\n",
    "\n",
    "\n",
    "с логарифмом:\n",
    "\n",
    "gas 1: 0.041498254378973407\n"
   ]
  },
  {
   "cell_type": "code",
   "execution_count": 223,
   "id": "5f29304d",
   "metadata": {},
   "outputs": [],
   "source": [
    "path = f'nn_gas{n_gas}_part1.pt'"
   ]
  },
  {
   "cell_type": "code",
   "execution_count": 224,
   "id": "9dbab322",
   "metadata": {},
   "outputs": [],
   "source": [
    "torch.save(model.state_dict(), path)"
   ]
  },
  {
   "cell_type": "code",
   "execution_count": 225,
   "id": "e314bed7",
   "metadata": {},
   "outputs": [
    {
     "data": {
      "text/plain": [
       "tensor([[84.1648, 72.6487],\n",
       "        [90.2054, 53.4967],\n",
       "        [86.9093, 44.7761],\n",
       "        ...,\n",
       "        [75.7548, 35.0466],\n",
       "        [78.7135, 35.2260],\n",
       "        [75.1511, 45.2514]])"
      ]
     },
     "execution_count": 225,
     "metadata": {},
     "output_type": "execute_result"
    }
   ],
   "source": [
    "test_result"
   ]
  },
  {
   "cell_type": "code",
   "execution_count": null,
   "id": "fd785289",
   "metadata": {},
   "outputs": [],
   "source": []
  },
  {
   "cell_type": "markdown",
   "id": "68003030",
   "metadata": {},
   "source": [
    "# model 2"
   ]
  },
  {
   "cell_type": "code",
   "execution_count": 245,
   "id": "66089462",
   "metadata": {},
   "outputs": [],
   "source": [
    "features = ['feature0',\n",
    " 'feature1',\n",
    " 'feature2',\n",
    " 'feature3',\n",
    " 'feature5',\n",
    " 'feature6',\n",
    " 'feature7',\n",
    " 'feature9',\n",
    " 'feature10',\n",
    " 'feature11',\n",
    " 'feature12',\n",
    " 'feature13',\n",
    " 'feature14',\n",
    " 'feature15',\n",
    " 'feature16',\n",
    " 'feature17',\n",
    " 'feature18',\n",
    " 'feature20',\n",
    " 'feature22']"
   ]
  },
  {
   "cell_type": "code",
   "execution_count": 246,
   "id": "34fc0189",
   "metadata": {},
   "outputs": [],
   "source": [
    "class Net2(nn.Module):\n",
    "    def __init__(self, input_size=24):\n",
    "        super(Net2, self).__init__()\n",
    "        self.fc1 = nn.Linear(input_size, 64)\n",
    "        self.fc2 = nn.Linear(64, 32)\n",
    "        self.fc3 = nn.Linear(32, 2)\n",
    "        \n",
    "    def forward(self, x):\n",
    "        x = F.sigmoid(self.fc1(x))\n",
    "        x = F.sigmoid(self.fc2(x))\n",
    "        x = self.fc3(x)\n",
    "        return x"
   ]
  },
  {
   "cell_type": "code",
   "execution_count": 247,
   "id": "dc843aae",
   "metadata": {},
   "outputs": [],
   "source": [
    "df = df1[df1['feature8'] < -30]"
   ]
  },
  {
   "cell_type": "code",
   "execution_count": 248,
   "id": "13ec728f",
   "metadata": {},
   "outputs": [],
   "source": [
    "X = df[features]\n",
    "y = df[columns_for_predict]\n",
    "\n",
    "X_train, X_test, y_train, y_test = train_test_split(X, y, test_size=0.1, random_state=41)"
   ]
  },
  {
   "cell_type": "code",
   "execution_count": 249,
   "id": "a8c1cffc",
   "metadata": {},
   "outputs": [],
   "source": [
    "X_train = X_train.values\n",
    "y_train = y_train.values\n",
    "\n",
    "X_test = X_test.values\n",
    "y_test = y_test.values"
   ]
  },
  {
   "cell_type": "code",
   "execution_count": 250,
   "id": "75ae3177",
   "metadata": {},
   "outputs": [
    {
     "name": "stdout",
     "output_type": "stream",
     "text": [
      "\n",
      "Epoch: 1 \tTrain Loss: 1601.7410896523998\n",
      "\n",
      "Epoch: 201 \tTrain Loss: 3.0271541624456297\n"
     ]
    }
   ],
   "source": [
    "batch_size = 128\n",
    "n_epochs = 400\n",
    "model = Net2(input_size=X_test.shape[1])\n",
    "\n",
    "optimizer = torch.optim.SGD(model.parameters(), lr=0.001)\n",
    "criterion = nn.MSELoss()\n",
    "\n",
    "model,loss_values_train, loss_values_test = train(model, X_train, y_train, X_test, \n",
    "                                                  y_test, optimizer, criterion, batch_size, n_epochs)"
   ]
  },
  {
   "cell_type": "code",
   "execution_count": 251,
   "id": "8ed83e44",
   "metadata": {},
   "outputs": [
    {
     "data": {
      "text/plain": [
       "[<matplotlib.lines.Line2D at 0x15283fc10>]"
      ]
     },
     "execution_count": 251,
     "metadata": {},
     "output_type": "execute_result"
    },
    {
     "data": {
      "image/png": "[encoded data removed]",
      "text/plain": [
       "<Figure size 640x480 with 1 Axes>"
      ]
     },
     "metadata": {},
     "output_type": "display_data"
    }
   ],
   "source": [
    "plt.plot(loss_values_train)\n",
    "plt.plot(loss_values_test)\n",
    "# plt.ylim((0,0.1))"
   ]
  },
  {
   "cell_type": "code",
   "execution_count": null,
   "id": "259fab99",
   "metadata": {},
   "outputs": [],
   "source": []
  },
  {
   "cell_type": "code",
   "execution_count": 252,
   "id": "5adfd478",
   "metadata": {},
   "outputs": [],
   "source": [
    "X_test_var = Variable(torch.FloatTensor(X_test), requires_grad=False) \n",
    "with torch.no_grad():\n",
    "    test_result = model(X_test_var)"
   ]
  },
  {
   "cell_type": "code",
   "execution_count": 253,
   "id": "72f51ca6",
   "metadata": {},
   "outputs": [
    {
     "data": {
      "text/plain": [
       "0.01705721812709588"
      ]
     },
     "execution_count": 253,
     "metadata": {},
     "output_type": "execute_result"
    }
   ],
   "source": [
    "mean_absolute_percentage_error(y_test, test_result)"
   ]
  },
  {
   "cell_type": "code",
   "execution_count": 254,
   "id": "9cf7094d",
   "metadata": {},
   "outputs": [],
   "source": [
    "path = f'nn_gas{n_gas}_part2.pt'"
   ]
  },
  {
   "cell_type": "code",
   "execution_count": 255,
   "id": "e7b42cb7",
   "metadata": {},
   "outputs": [],
   "source": [
    "torch.save(model.state_dict(), path)"
   ]
  },
  {
   "cell_type": "code",
   "execution_count": null,
   "id": "06967117",
   "metadata": {},
   "outputs": [],
   "source": []
  }
 ],
 "metadata": {
  "kernelspec": {
   "display_name": "Python 3 (ipykernel)",
   "language": "python",
   "name": "python3"
  },
  "language_info": {
   "codemirror_mode": {
    "name": "ipython",
    "version": 3
   },
   "file_extension": ".py",
   "mimetype": "text/x-python",
   "name": "python",
   "nbconvert_exporter": "python",
   "pygments_lexer": "ipython3",
   "version": "3.10.9"
  },
  "toc": {
   "base_numbering": 1,
   "nav_menu": {},
   "number_sections": true,
   "sideBar": true,
   "skip_h1_title": false,
   "title_cell": "Table of Contents",
   "title_sidebar": "Contents",
   "toc_cell": false,
   "toc_position": {},
   "toc_section_display": true,
   "toc_window_display": true
  }
 },
 "nbformat": 4,
 "nbformat_minor": 5
}
