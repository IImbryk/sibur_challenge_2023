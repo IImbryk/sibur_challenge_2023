{
 "cells": [
  {
   "cell_type": "code",
   "execution_count": 10,
   "id": "f9910c43",
   "metadata": {},
   "outputs": [],
   "source": [
    "import pandas as pd\n",
    "from predict import predict\n",
    "\n",
    "from sklearn.metrics import mean_absolute_percentage_error"
   ]
  },
  {
   "cell_type": "code",
   "execution_count": 11,
   "id": "9161e73f",
   "metadata": {},
   "outputs": [
    {
     "data": {
      "text/html": [
       "<div>\n",
       "<style scoped>\n",
       "    .dataframe tbody tr th:only-of-type {\n",
       "        vertical-align: middle;\n",
       "    }\n",
       "\n",
       "    .dataframe tbody tr th {\n",
       "        vertical-align: top;\n",
       "    }\n",
       "\n",
       "    .dataframe thead th {\n",
       "        text-align: right;\n",
       "    }\n",
       "</style>\n",
       "<table border=\"1\" class=\"dataframe\">\n",
       "  <thead>\n",
       "    <tr style=\"text-align: right;\">\n",
       "      <th></th>\n",
       "      <th>feature0</th>\n",
       "      <th>feature1</th>\n",
       "      <th>feature2</th>\n",
       "      <th>feature3</th>\n",
       "      <th>feature4</th>\n",
       "      <th>feature5</th>\n",
       "      <th>feature6</th>\n",
       "      <th>feature7</th>\n",
       "      <th>feature8</th>\n",
       "      <th>feature9</th>\n",
       "      <th>...</th>\n",
       "      <th>feature17</th>\n",
       "      <th>feature18</th>\n",
       "      <th>feature19</th>\n",
       "      <th>feature20</th>\n",
       "      <th>feature21</th>\n",
       "      <th>feature22</th>\n",
       "      <th>feature23</th>\n",
       "      <th>feature24</th>\n",
       "      <th>target0</th>\n",
       "      <th>target1</th>\n",
       "    </tr>\n",
       "  </thead>\n",
       "  <tbody>\n",
       "    <tr>\n",
       "      <th>0</th>\n",
       "      <td>32.910908</td>\n",
       "      <td>17.376350</td>\n",
       "      <td>77.557840</td>\n",
       "      <td>2.929855</td>\n",
       "      <td>gas1</td>\n",
       "      <td>20.487150</td>\n",
       "      <td>57.633085</td>\n",
       "      <td>49.245392</td>\n",
       "      <td>-44.124381</td>\n",
       "      <td>23.400064</td>\n",
       "      <td>...</td>\n",
       "      <td>14.203652</td>\n",
       "      <td>9.689942</td>\n",
       "      <td>17.951627</td>\n",
       "      <td>24.198589</td>\n",
       "      <td>102.448710</td>\n",
       "      <td>110.529868</td>\n",
       "      <td>56.817260</td>\n",
       "      <td>12.887802</td>\n",
       "      <td>27.050891</td>\n",
       "      <td>6.502743</td>\n",
       "    </tr>\n",
       "    <tr>\n",
       "      <th>1</th>\n",
       "      <td>41.263782</td>\n",
       "      <td>22.419445</td>\n",
       "      <td>47.945514</td>\n",
       "      <td>-25.847472</td>\n",
       "      <td>gas2</td>\n",
       "      <td>21.461239</td>\n",
       "      <td>3.474080</td>\n",
       "      <td>49.659980</td>\n",
       "      <td>-13.553188</td>\n",
       "      <td>-13.047593</td>\n",
       "      <td>...</td>\n",
       "      <td>-14.451904</td>\n",
       "      <td>-0.906120</td>\n",
       "      <td>105.724742</td>\n",
       "      <td>-9.435222</td>\n",
       "      <td>-16.060150</td>\n",
       "      <td>37.286110</td>\n",
       "      <td>61.224272</td>\n",
       "      <td>39.822424</td>\n",
       "      <td>84.127890</td>\n",
       "      <td>76.578716</td>\n",
       "    </tr>\n",
       "    <tr>\n",
       "      <th>2</th>\n",
       "      <td>25.580283</td>\n",
       "      <td>17.376350</td>\n",
       "      <td>77.654180</td>\n",
       "      <td>2.799411</td>\n",
       "      <td>gas1</td>\n",
       "      <td>20.487150</td>\n",
       "      <td>28.938295</td>\n",
       "      <td>49.245392</td>\n",
       "      <td>-44.124381</td>\n",
       "      <td>20.610679</td>\n",
       "      <td>...</td>\n",
       "      <td>14.395054</td>\n",
       "      <td>9.779019</td>\n",
       "      <td>17.951638</td>\n",
       "      <td>24.999453</td>\n",
       "      <td>101.728213</td>\n",
       "      <td>111.471534</td>\n",
       "      <td>52.664304</td>\n",
       "      <td>12.887802</td>\n",
       "      <td>22.080133</td>\n",
       "      <td>3.036043</td>\n",
       "    </tr>\n",
       "    <tr>\n",
       "      <th>3</th>\n",
       "      <td>33.756900</td>\n",
       "      <td>17.376350</td>\n",
       "      <td>73.049625</td>\n",
       "      <td>2.953982</td>\n",
       "      <td>gas1</td>\n",
       "      <td>20.487150</td>\n",
       "      <td>28.932311</td>\n",
       "      <td>49.245392</td>\n",
       "      <td>-44.124381</td>\n",
       "      <td>18.107963</td>\n",
       "      <td>...</td>\n",
       "      <td>14.184314</td>\n",
       "      <td>9.798969</td>\n",
       "      <td>17.951675</td>\n",
       "      <td>23.990300</td>\n",
       "      <td>101.312113</td>\n",
       "      <td>115.589451</td>\n",
       "      <td>56.840719</td>\n",
       "      <td>12.887802</td>\n",
       "      <td>30.234082</td>\n",
       "      <td>8.910795</td>\n",
       "    </tr>\n",
       "    <tr>\n",
       "      <th>4</th>\n",
       "      <td>4.223732</td>\n",
       "      <td>38.772534</td>\n",
       "      <td>48.015553</td>\n",
       "      <td>-25.843943</td>\n",
       "      <td>gas2</td>\n",
       "      <td>24.635721</td>\n",
       "      <td>12.011581</td>\n",
       "      <td>51.030938</td>\n",
       "      <td>84.244199</td>\n",
       "      <td>-17.735680</td>\n",
       "      <td>...</td>\n",
       "      <td>-14.439953</td>\n",
       "      <td>8.262354</td>\n",
       "      <td>90.187207</td>\n",
       "      <td>-2.901661</td>\n",
       "      <td>-16.060150</td>\n",
       "      <td>37.398779</td>\n",
       "      <td>40.488468</td>\n",
       "      <td>128.295838</td>\n",
       "      <td>71.128092</td>\n",
       "      <td>50.475082</td>\n",
       "    </tr>\n",
       "  </tbody>\n",
       "</table>\n",
       "<p>5 rows × 27 columns</p>\n",
       "</div>"
      ],
      "text/plain": [
       "    feature0   feature1   feature2   feature3 feature4   feature5   feature6  \\\n",
       "0  32.910908  17.376350  77.557840   2.929855     gas1  20.487150  57.633085   \n",
       "1  41.263782  22.419445  47.945514 -25.847472     gas2  21.461239   3.474080   \n",
       "2  25.580283  17.376350  77.654180   2.799411     gas1  20.487150  28.938295   \n",
       "3  33.756900  17.376350  73.049625   2.953982     gas1  20.487150  28.932311   \n",
       "4   4.223732  38.772534  48.015553 -25.843943     gas2  24.635721  12.011581   \n",
       "\n",
       "    feature7   feature8   feature9  ...  feature17  feature18   feature19  \\\n",
       "0  49.245392 -44.124381  23.400064  ...  14.203652   9.689942   17.951627   \n",
       "1  49.659980 -13.553188 -13.047593  ... -14.451904  -0.906120  105.724742   \n",
       "2  49.245392 -44.124381  20.610679  ...  14.395054   9.779019   17.951638   \n",
       "3  49.245392 -44.124381  18.107963  ...  14.184314   9.798969   17.951675   \n",
       "4  51.030938  84.244199 -17.735680  ... -14.439953   8.262354   90.187207   \n",
       "\n",
       "   feature20   feature21   feature22  feature23   feature24    target0  \\\n",
       "0  24.198589  102.448710  110.529868  56.817260   12.887802  27.050891   \n",
       "1  -9.435222  -16.060150   37.286110  61.224272   39.822424  84.127890   \n",
       "2  24.999453  101.728213  111.471534  52.664304   12.887802  22.080133   \n",
       "3  23.990300  101.312113  115.589451  56.840719   12.887802  30.234082   \n",
       "4  -2.901661  -16.060150   37.398779  40.488468  128.295838  71.128092   \n",
       "\n",
       "     target1  \n",
       "0   6.502743  \n",
       "1  76.578716  \n",
       "2   3.036043  \n",
       "3   8.910795  \n",
       "4  50.475082  \n",
       "\n",
       "[5 rows x 27 columns]"
      ]
     },
     "execution_count": 11,
     "metadata": {},
     "output_type": "execute_result"
    }
   ],
   "source": [
    "train = pd.read_parquet(\"train.parquet\")\n",
    "train.head()"
   ]
  },
  {
   "cell_type": "code",
   "execution_count": 12,
   "id": "0203163c",
   "metadata": {},
   "outputs": [],
   "source": [
    "train = train.drop(['target0', 'target1'], axis=1)"
   ]
  },
  {
   "cell_type": "code",
   "execution_count": 13,
   "id": "27808afc",
   "metadata": {
    "scrolled": false
   },
   "outputs": [],
   "source": [
    "k = predict(train)"
   ]
  },
  {
   "cell_type": "code",
   "execution_count": 14,
   "id": "fd5a70c4",
   "metadata": {},
   "outputs": [
    {
     "data": {
      "text/plain": [
       "(153417, 2)"
      ]
     },
     "execution_count": 14,
     "metadata": {},
     "output_type": "execute_result"
    }
   ],
   "source": [
    "k.shape"
   ]
  },
  {
   "cell_type": "code",
   "execution_count": 15,
   "id": "5cf2d277",
   "metadata": {},
   "outputs": [
    {
     "data": {
      "text/plain": [
       "(153417, 25)"
      ]
     },
     "execution_count": 15,
     "metadata": {},
     "output_type": "execute_result"
    }
   ],
   "source": [
    "train.shape"
   ]
  },
  {
   "cell_type": "code",
   "execution_count": 16,
   "id": "0053c94b",
   "metadata": {},
   "outputs": [
    {
     "name": "stdout",
     "output_type": "stream",
     "text": [
      "<class 'pandas.core.frame.DataFrame'>\n",
      "RangeIndex: 153417 entries, 0 to 153416\n",
      "Data columns (total 2 columns):\n",
      " #   Column   Non-Null Count   Dtype  \n",
      "---  ------   --------------   -----  \n",
      " 0   target0  153417 non-null  float64\n",
      " 1   target1  153417 non-null  float64\n",
      "dtypes: float64(2)\n",
      "memory usage: 2.3 MB\n"
     ]
    }
   ],
   "source": [
    "k.info()"
   ]
  },
  {
   "cell_type": "code",
   "execution_count": 17,
   "id": "d9a83b92",
   "metadata": {},
   "outputs": [
    {
     "data": {
      "text/plain": [
       "RangeIndex(start=0, stop=153417, step=1)"
      ]
     },
     "execution_count": 17,
     "metadata": {},
     "output_type": "execute_result"
    }
   ],
   "source": [
    "train.index"
   ]
  },
  {
   "cell_type": "code",
   "execution_count": null,
   "id": "39a201f8",
   "metadata": {},
   "outputs": [],
   "source": []
  },
  {
   "cell_type": "code",
   "execution_count": null,
   "id": "6181610a",
   "metadata": {},
   "outputs": [],
   "source": []
  }
 ],
 "metadata": {
  "kernelspec": {
   "display_name": "Python 3 (ipykernel)",
   "language": "python",
   "name": "python3"
  },
  "language_info": {
   "codemirror_mode": {
    "name": "ipython",
    "version": 3
   },
   "file_extension": ".py",
   "mimetype": "text/x-python",
   "name": "python",
   "nbconvert_exporter": "python",
   "pygments_lexer": "ipython3",
   "version": "3.10.9"
  },
  "toc": {
   "base_numbering": 1,
   "nav_menu": {},
   "number_sections": true,
   "sideBar": true,
   "skip_h1_title": false,
   "title_cell": "Table of Contents",
   "title_sidebar": "Contents",
   "toc_cell": false,
   "toc_position": {},
   "toc_section_display": true,
   "toc_window_display": false
  }
 },
 "nbformat": 4,
 "nbformat_minor": 5
}
