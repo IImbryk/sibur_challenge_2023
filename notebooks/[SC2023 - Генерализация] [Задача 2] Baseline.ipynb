{
 "cells": [
  {
   "cell_type": "code",
   "execution_count": null,
   "metadata": {
    "ExecuteTime": {
     "end_time": "2023-05-20T08:11:49.004916Z",
     "start_time": "2023-05-20T08:11:48.057074Z"
    }
   },
   "outputs": [],
   "source": [
    "# Визуализации\n",
    "\n",
    "from matplotlib import pyplot as plt\n",
    "import seaborn as sns"
   ]
  },
  {
   "cell_type": "code",
   "execution_count": null,
   "metadata": {
    "ExecuteTime": {
     "end_time": "2023-05-20T08:11:49.009778Z",
     "start_time": "2023-05-20T08:11:49.006754Z"
    }
   },
   "outputs": [],
   "source": [
    "plt.style.use(\"bmh\")\n",
    "plt.rcParams[\"axes.titlesize\"] = \"large\""
   ]
  },
  {
   "cell_type": "code",
   "execution_count": null,
   "metadata": {
    "ExecuteTime": {
     "end_time": "2023-05-20T08:11:49.017061Z",
     "start_time": "2023-05-20T08:11:49.012039Z"
    }
   },
   "outputs": [],
   "source": [
    "# Общеe\n",
    "\n",
    "import os\n",
    "import tqdm\n",
    "import pathlib\n",
    "import numpy as np\n",
    "import pandas as pd\n",
    "\n",
    "tqdm.tqdm.pandas()\n",
    "pd.set_option('display.max_columns', None)"
   ]
  },
  {
   "cell_type": "code",
   "execution_count": null,
   "metadata": {
    "ExecuteTime": {
     "end_time": "2023-05-20T08:11:49.340075Z",
     "start_time": "2023-05-20T08:11:49.018557Z"
    }
   },
   "outputs": [],
   "source": [
    "from sklearn.model_selection import train_test_split\n",
    "from sklearn.metrics import mean_absolute_percentage_error\n",
    "from catboost import CatBoostRegressor"
   ]
  },
  {
   "cell_type": "markdown",
   "metadata": {},
   "source": [
    "<div class=\"alert alert-block alert-warning\">\n",
    "Не забудьте заменить <tt>DATA_DIR</tt> на имя локальной директории, в которую сохранили файл.\n",
    "</div>"
   ]
  },
  {
   "cell_type": "code",
   "execution_count": null,
   "metadata": {
    "ExecuteTime": {
     "end_time": "2023-05-20T08:11:49.343557Z",
     "start_time": "2023-05-20T08:11:49.341496Z"
    }
   },
   "outputs": [],
   "source": [
    "DATA_DIR = pathlib.Path(\"\")\n",
    "RS = 3984765"
   ]
  },
  {
   "cell_type": "markdown",
   "metadata": {},
   "source": [
    "# Загрузка данных\n",
    "\n",
    "Данные хранятся в формате Parquet: читается быстрее, места занимает меньше."
   ]
  },
  {
   "cell_type": "code",
   "execution_count": null,
   "metadata": {
    "ExecuteTime": {
     "end_time": "2023-05-20T08:11:49.435084Z",
     "start_time": "2023-05-20T08:11:49.345120Z"
    }
   },
   "outputs": [],
   "source": [
    "train = pd.read_parquet(DATA_DIR.joinpath(\"train.parquet\"))\n",
    "train.head()"
   ]
  },
  {
   "cell_type": "code",
   "execution_count": null,
   "metadata": {},
   "outputs": [],
   "source": [
    "train.corr()"
   ]
  },
  {
   "cell_type": "code",
   "execution_count": null,
   "metadata": {},
   "outputs": [],
   "source": [
    "for_show = train.iloc[:, [0, 1, 2, 3,4,  -2, -3]]"
   ]
  },
  {
   "cell_type": "code",
   "execution_count": null,
   "metadata": {},
   "outputs": [],
   "source": [
    "for_show.shape"
   ]
  },
  {
   "cell_type": "code",
   "execution_count": null,
   "metadata": {},
   "outputs": [],
   "source": [
    "for_show = train.iloc[:, [4, 5, 6, 7, 8,  -2, -3]]"
   ]
  },
  {
   "cell_type": "code",
   "execution_count": null,
   "metadata": {},
   "outputs": [],
   "source": [
    "import matplotlib.pyplot as plt\n",
    "import seaborn as sns"
   ]
  },
  {
   "cell_type": "code",
   "execution_count": null,
   "metadata": {},
   "outputs": [],
   "source": [
    "sns.pairplot(for_show)"
   ]
  },
  {
   "cell_type": "code",
   "execution_count": null,
   "metadata": {
    "scrolled": false
   },
   "outputs": [],
   "source": [
    "import plotly.express as px\n",
    "fig = px.scatter_matrix(for_show, color=for_show['feature4'])\n",
    "fig.show()"
   ]
  },
  {
   "cell_type": "code",
   "execution_count": null,
   "metadata": {},
   "outputs": [],
   "source": [
    "for_show = train.iloc[:, [4, 9, 10, 11, 12,  -2, -3]]\n",
    "\n",
    "fig = px.scatter_matrix(train.iloc[:, [9, 10, 11, 12,  -2, -3]], dimensions=train.iloc[:, [9, 10, 11, 12,  -2, -3]], color=for_show['feature4'])\n",
    "fig.show()"
   ]
  },
  {
   "cell_type": "code",
   "execution_count": null,
   "metadata": {},
   "outputs": [],
   "source": [
    "for_show = train.iloc[:, [4, 13, 14, 15, 16,  -2, -3]]\n",
    "\n",
    "fig = px.scatter_matrix(for_show, color=for_show['feature4'])\n",
    "fig.show()"
   ]
  },
  {
   "cell_type": "code",
   "execution_count": null,
   "metadata": {},
   "outputs": [],
   "source": [
    "for_show = train.iloc[:, [4, 17, 18, 19, 20,  -2, -3]]\n",
    "\n",
    "fig = px.scatter_matrix(for_show, color=for_show['feature4'])\n",
    "fig.show()"
   ]
  },
  {
   "cell_type": "code",
   "execution_count": null,
   "metadata": {},
   "outputs": [],
   "source": [
    "for_show = train.iloc[:, [4, 21, 22, 23, 24,  -2, -3]]\n",
    "\n",
    "fig = px.scatter_matrix(for_show, color=for_show['feature4'])\n",
    "fig.show()"
   ]
  },
  {
   "cell_type": "code",
   "execution_count": null,
   "metadata": {},
   "outputs": [],
   "source": [
    "for_show"
   ]
  },
  {
   "cell_type": "markdown",
   "metadata": {
    "ExecuteTime": {
     "end_time": "2023-05-20T08:00:04.482901Z",
     "start_time": "2023-05-20T08:00:04.479458Z"
    }
   },
   "source": [
    "В данных есть один категориальный признак: `feature4`. Он может принимать значения `gas1` и `gas2`. Таргета два: `target0` и `target1`."
   ]
  },
  {
   "cell_type": "code",
   "execution_count": null,
   "metadata": {
    "ExecuteTime": {
     "end_time": "2023-05-20T08:11:49.445101Z",
     "start_time": "2023-05-20T08:11:49.436433Z"
    }
   },
   "outputs": [],
   "source": [
    "CAT = [\"feature4\"]\n",
    "TARGETS = [\"target0\", \"target1\"]\n",
    "FTS = train.filter(like=\"feature\").columns.difference(CAT)"
   ]
  },
  {
   "cell_type": "markdown",
   "metadata": {},
   "source": [
    "Проверяем, что с пропусками:"
   ]
  },
  {
   "cell_type": "code",
   "execution_count": null,
   "metadata": {
    "ExecuteTime": {
     "end_time": "2023-05-20T08:11:49.459073Z",
     "start_time": "2023-05-20T08:11:49.447400Z"
    }
   },
   "outputs": [],
   "source": [
    "train.isnull().any().mean()"
   ]
  },
  {
   "cell_type": "markdown",
   "metadata": {},
   "source": [
    "Их нет! Вот это поворот! Посмотрим на таргеты:"
   ]
  },
  {
   "cell_type": "code",
   "execution_count": null,
   "metadata": {
    "ExecuteTime": {
     "end_time": "2023-05-20T08:11:49.675390Z",
     "start_time": "2023-05-20T08:11:49.460772Z"
    }
   },
   "outputs": [],
   "source": [
    "plt.figure(figsize=(6,6))\n",
    "\n",
    "train[TARGETS].plot(kind=\"hist\", range=(0, 100), bins=20, alpha=0.6, ax=plt.gca())\n",
    "plt.xlabel(\"target\");"
   ]
  },
  {
   "cell_type": "markdown",
   "metadata": {},
   "source": [
    "Категориальный признак меняем на числовой:"
   ]
  },
  {
   "cell_type": "code",
   "execution_count": null,
   "metadata": {
    "ExecuteTime": {
     "end_time": "2023-05-20T08:11:49.690777Z",
     "start_time": "2023-05-20T08:11:49.677608Z"
    }
   },
   "outputs": [],
   "source": [
    "train[\"gas\"] = 0\n",
    "train.loc[train.feature4==\"gas2\", \"gas\"] = 1"
   ]
  },
  {
   "cell_type": "code",
   "execution_count": null,
   "metadata": {
    "ExecuteTime": {
     "end_time": "2023-05-20T08:11:49.695462Z",
     "start_time": "2023-05-20T08:11:49.692438Z"
    }
   },
   "outputs": [],
   "source": [
    "FTS = FTS.union([\"gas\"])"
   ]
  },
  {
   "cell_type": "markdown",
   "metadata": {},
   "source": [
    "# Простая модель\n",
    "\n",
    "Построим простую модель со случайным разбиением на тренировочное и валидационное множества. Таргеты будем моделировать отдельно."
   ]
  },
  {
   "cell_type": "code",
   "execution_count": null,
   "metadata": {
    "ExecuteTime": {
     "end_time": "2023-05-20T08:11:49.737824Z",
     "start_time": "2023-05-20T08:11:49.697518Z"
    }
   },
   "outputs": [],
   "source": [
    "X_tr, X_val, y_tr, y_val = train_test_split(train[FTS], train[TARGETS], train_size=0.5, random_state=RS)"
   ]
  },
  {
   "cell_type": "code",
   "execution_count": null,
   "metadata": {
    "ExecuteTime": {
     "end_time": "2023-05-20T08:12:38.294576Z",
     "start_time": "2023-05-20T08:11:49.739818Z"
    }
   },
   "outputs": [],
   "source": [
    "models = {}\n",
    "tr_preds = []\n",
    "val_preds = []\n",
    "\n",
    "for tg in TARGETS:\n",
    "    print(f\"{tg}\", \"=\" * 10)\n",
    "    cb_model = CatBoostRegressor(max_depth=4, iterations=5000,\n",
    "                                 early_stopping_rounds=20, objective=\"MAPE\", verbose=200,\n",
    "                                 random_state=RS)\n",
    "    cb_model.fit(X_tr, y_tr[tg], eval_set=(X_val, y_val[tg]))\n",
    "\n",
    "    tr_preds.append(cb_model.predict(X_tr))\n",
    "    val_preds.append(cb_model.predict(X_val))\n",
    "\n",
    "    models[tg] = cb_model"
   ]
  },
  {
   "cell_type": "markdown",
   "metadata": {},
   "source": [
    "Собираем предсказания вместе:"
   ]
  },
  {
   "cell_type": "code",
   "execution_count": null,
   "metadata": {
    "ExecuteTime": {
     "end_time": "2023-05-20T08:12:38.298626Z",
     "start_time": "2023-05-20T08:12:38.296009Z"
    }
   },
   "outputs": [],
   "source": [
    "tr_preds = np.column_stack(tr_preds)\n",
    "val_preds = np.column_stack(val_preds)"
   ]
  },
  {
   "cell_type": "code",
   "execution_count": null,
   "metadata": {
    "ExecuteTime": {
     "end_time": "2023-05-20T08:12:38.303940Z",
     "start_time": "2023-05-20T08:12:38.300010Z"
    }
   },
   "outputs": [],
   "source": [
    "tr_preds = np.clip(tr_preds, 0, 100)\n",
    "val_preds = np.clip(val_preds, 0, 100)"
   ]
  },
  {
   "cell_type": "markdown",
   "metadata": {},
   "source": [
    "Посчитаем метрики (так они считаются и для загрузок на платформе):"
   ]
  },
  {
   "cell_type": "code",
   "execution_count": null,
   "metadata": {
    "ExecuteTime": {
     "end_time": "2023-05-20T08:12:38.318940Z",
     "start_time": "2023-05-20T08:12:38.305583Z"
    }
   },
   "outputs": [],
   "source": [
    "print(f\"MAPE (train): {mean_absolute_percentage_error(y_tr, tr_preds) * 100:.3f} %\")\n",
    "print(f\"MAPE (val): {mean_absolute_percentage_error(y_val, val_preds) * 100:.3f} %\")"
   ]
  },
  {
   "cell_type": "markdown",
   "metadata": {},
   "source": [
    "Сохраним модели:"
   ]
  },
  {
   "cell_type": "code",
   "execution_count": null,
   "metadata": {
    "ExecuteTime": {
     "end_time": "2023-05-20T08:12:38.333686Z",
     "start_time": "2023-05-20T08:12:38.320644Z"
    }
   },
   "outputs": [],
   "source": [
    "for target, model in models.items():\n",
    "    model.save_model(DATA_DIR.joinpath(f\"{target}-cb-v1.cbm\"))"
   ]
  },
  {
   "cell_type": "markdown",
   "metadata": {},
   "source": [
    "Эти модели (в зависимости от `RS`) должны давать на публичном лидерборде `~10%`. Как сделать так, чтобы локальная валидация сходилась с лидербордом: вот в чем вопрос!"
   ]
  },
  {
   "cell_type": "code",
   "execution_count": null,
   "metadata": {},
   "outputs": [],
   "source": []
  }
 ],
 "metadata": {
  "kernelspec": {
   "display_name": "Python 3 (ipykernel)",
   "language": "python",
   "name": "python3"
  },
  "language_info": {
   "codemirror_mode": {
    "name": "ipython",
    "version": 3
   },
   "file_extension": ".py",
   "mimetype": "text/x-python",
   "name": "python",
   "nbconvert_exporter": "python",
   "pygments_lexer": "ipython3",
   "version": "3.10.9"
  },
  "toc": {
   "base_numbering": 1,
   "nav_menu": {},
   "number_sections": true,
   "sideBar": true,
   "skip_h1_title": false,
   "title_cell": "Table of Contents",
   "title_sidebar": "Contents",
   "toc_cell": false,
   "toc_position": {},
   "toc_section_display": true,
   "toc_window_display": false
  },
  "vscode": {
   "interpreter": {
    "hash": "8566eb0607572741f5df0b9bba8d97b510d80a4d430b258b7e0e8478f0b151dd"
   }
  }
 },
 "nbformat": 4,
 "nbformat_minor": 2
}
