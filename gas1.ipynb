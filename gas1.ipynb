{
 "cells": [
  {
   "cell_type": "code",
   "execution_count": null,
   "id": "a73d542f",
   "metadata": {},
   "outputs": [],
   "source": [
    "import torch\n",
    "import torch.nn as nn\n",
    "from torch.nn import functional as F\n",
    "from torch.autograd import Variable\n",
    "import pandas as pd\n",
    "import numpy as np\n",
    "from sklearn.metrics import mean_absolute_percentage_error\n",
    "from sklearn.preprocessing import StandardScaler\n",
    "from sklearn.model_selection import train_test_split\n",
    "from matplotlib import pyplot as plt\n",
    "import plotly.express as px\n",
    "import seaborn as sns"
   ]
  },
  {
   "cell_type": "code",
   "execution_count": null,
   "id": "a1fd5b10",
   "metadata": {},
   "outputs": [],
   "source": [
    "train = pd.read_parquet(\"train.parquet\")\n",
    "train.head()"
   ]
  },
  {
   "cell_type": "code",
   "execution_count": null,
   "id": "d0d12510",
   "metadata": {},
   "outputs": [],
   "source": [
    "n_gas = 2"
   ]
  },
  {
   "cell_type": "code",
   "execution_count": null,
   "id": "ff331d6d",
   "metadata": {},
   "outputs": [],
   "source": [
    "df = train[train.feature4 == f'gas{n_gas}']"
   ]
  },
  {
   "cell_type": "code",
   "execution_count": null,
   "id": "0cb38ad9",
   "metadata": {},
   "outputs": [],
   "source": [
    "col_for_del = []"
   ]
  },
  {
   "cell_type": "code",
   "execution_count": null,
   "id": "c986cf77",
   "metadata": {},
   "outputs": [],
   "source": [
    "for col in df.columns:\n",
    "    if len(df[col].unique()) == 1:\n",
    "        col_for_del.append(col)"
   ]
  },
  {
   "cell_type": "code",
   "execution_count": null,
   "id": "eb8605d4",
   "metadata": {},
   "outputs": [],
   "source": [
    "col_for_del"
   ]
  },
  {
   "cell_type": "code",
   "execution_count": null,
   "id": "32f7e564",
   "metadata": {},
   "outputs": [],
   "source": [
    "df = df.drop(col_for_del, axis=1)"
   ]
  },
  {
   "cell_type": "code",
   "execution_count": null,
   "id": "f442054d",
   "metadata": {},
   "outputs": [],
   "source": [
    "corr_matrix = df.corr()"
   ]
  },
  {
   "cell_type": "code",
   "execution_count": null,
   "id": "e048ff1b",
   "metadata": {},
   "outputs": [],
   "source": [
    "corr_matrix"
   ]
  },
  {
   "cell_type": "code",
   "execution_count": null,
   "id": "147ef1fa",
   "metadata": {},
   "outputs": [],
   "source": [
    "def get_columns_for_drop(corr_matrix):\n",
    "    # get upper triangle of correlation matrix\n",
    "    upper = corr_matrix.where(np.triu(np.ones(corr_matrix.shape), k=1).astype(np.bool))\n",
    "\n",
    "    # find features with correlation greater than 0.95\n",
    "    to_drop = [column for column in upper.columns if any(upper[column] > 0.95)]\n",
    "\n",
    "    # df1.drop(to_drop, axis=1, inplace=True)\n",
    "\n",
    "    # find features with correlation greater than 0.95\n",
    "    to_drop_low = [column for column in upper.columns if any(upper[column] < -0.95)]\n",
    "\n",
    "    # df1.drop(to_drop_low, axis=1, inplace=True)\n",
    "\n",
    "    # drop highly correlated features\n",
    "    # df.drop(to_drop, axis=1 , inplace=True)\n",
    "    print(to_drop, to_drop_low)\n",
    "    res = set(to_drop)\n",
    "    res.update(set(to_drop_low))\n",
    "    return list(res)"
   ]
  },
  {
   "cell_type": "code",
   "execution_count": null,
   "id": "4344d54b",
   "metadata": {},
   "outputs": [],
   "source": []
  },
  {
   "cell_type": "code",
   "execution_count": null,
   "id": "9b1cd945",
   "metadata": {},
   "outputs": [],
   "source": [
    "# get upper triangle of correlation matrix\n",
    "upper = corr_matrix.where(np.triu(np.ones(corr_matrix.shape), k=1).astype(np.bool))\n",
    "\n",
    "# find features with correlation greater than 0.95\n",
    "to_drop = [column for column in upper.columns if any(upper[column] > 0.95)]\n",
    "\n",
    "# df1.drop(to_drop, axis=1, inplace=True)\n",
    "\n",
    "# find features with correlation greater than 0.95\n",
    "to_drop_low = [column for column in upper.columns if any(upper[column] < -0.95)]\n",
    "\n",
    "# df1.drop(to_drop_low, axis=1, inplace=True)\n",
    "\n",
    "# drop highly correlated features\n",
    "# df.drop(to_drop, axis=1 , inplace=True)\n",
    "print(to_drop, to_drop_low)"
   ]
  },
  {
   "cell_type": "code",
   "execution_count": null,
   "id": "52496757",
   "metadata": {},
   "outputs": [],
   "source": []
  },
  {
   "cell_type": "code",
   "execution_count": null,
   "id": "9dd00507",
   "metadata": {},
   "outputs": [],
   "source": [
    "columns_for_predict = ['target0', 'target1']"
   ]
  },
  {
   "cell_type": "markdown",
   "id": "047ca9ae",
   "metadata": {},
   "source": [
    "### feature engenering"
   ]
  },
  {
   "cell_type": "code",
   "execution_count": null,
   "id": "fc2bcf36",
   "metadata": {},
   "outputs": [],
   "source": [
    "features = df.columns.to_list()\n",
    "for i in columns_for_predict:\n",
    "    features.remove(i)"
   ]
  },
  {
   "cell_type": "code",
   "execution_count": null,
   "id": "2ce0d7cd",
   "metadata": {},
   "outputs": [],
   "source": [
    "for i in to_drop:\n",
    "    features.remove(i)\n",
    "    \n",
    "for i in to_drop_low:\n",
    "    features.remove(i)"
   ]
  },
  {
   "cell_type": "code",
   "execution_count": null,
   "id": "a9bac8a2",
   "metadata": {},
   "outputs": [],
   "source": [
    "features"
   ]
  },
  {
   "cell_type": "code",
   "execution_count": null,
   "id": "57f67511",
   "metadata": {},
   "outputs": [],
   "source": [
    "df['label1'] = df['feature8'] < -30"
   ]
  },
  {
   "cell_type": "code",
   "execution_count": null,
   "id": "48e2018b",
   "metadata": {},
   "outputs": [],
   "source": [
    "df['label1'].value_counts()"
   ]
  },
  {
   "cell_type": "code",
   "execution_count": null,
   "id": "82e69fd4",
   "metadata": {},
   "outputs": [],
   "source": [
    "df = df[df['feature8'] < -30]"
   ]
  },
  {
   "cell_type": "code",
   "execution_count": null,
   "id": "f10db9c8",
   "metadata": {},
   "outputs": [],
   "source": [
    "corr_matrix = df.corr()"
   ]
  },
  {
   "cell_type": "code",
   "execution_count": null,
   "id": "67b4f709",
   "metadata": {},
   "outputs": [],
   "source": [
    "col_for_drop = get_columns_for_drop(corr_matrix)"
   ]
  },
  {
   "cell_type": "code",
   "execution_count": null,
   "id": "74cdc8f1",
   "metadata": {},
   "outputs": [],
   "source": [
    "col_for_drop"
   ]
  },
  {
   "cell_type": "code",
   "execution_count": null,
   "id": "7bc8e63f",
   "metadata": {},
   "outputs": [],
   "source": [
    "features = set(features)\n",
    "features = features - set(col_for_drop)\n",
    "features"
   ]
  },
  {
   "cell_type": "code",
   "execution_count": null,
   "id": "ef108bfb",
   "metadata": {
    "scrolled": false
   },
   "outputs": [],
   "source": [
    "col = ['feature6', 'feature7', 'feature8', 'feature9', 'feature10', 'label1'] + columns_for_predict\n",
    "for_show = df[col]\n",
    "sns.pairplot(for_show, hue='label1')"
   ]
  },
  {
   "cell_type": "code",
   "execution_count": null,
   "id": "77ce8561",
   "metadata": {},
   "outputs": [],
   "source": [
    "col = ['feature0', 'feature1', 'feature2', 'feature3', 'feature5', 'label1'] + columns_for_predict\n",
    "for_show = df[col]\n",
    "sns.pairplot(for_show, hue='label1')"
   ]
  },
  {
   "cell_type": "code",
   "execution_count": null,
   "id": "9c9f1000",
   "metadata": {},
   "outputs": [],
   "source": [
    "col = ['feature0', 'feature1', 'feature2', 'feature3', 'feature5'] + columns_for_predict\n",
    "for_show = df[col]\n",
    "sns.pairplot(for_show)"
   ]
  },
  {
   "cell_type": "code",
   "execution_count": null,
   "id": "4c275159",
   "metadata": {},
   "outputs": [],
   "source": [
    "col = ['feature11', 'feature12', 'feature13', 'feature14', 'feature15'] + columns_for_predict\n",
    "for_show = df[col]\n",
    "sns.pairplot(for_show)"
   ]
  },
  {
   "cell_type": "code",
   "execution_count": null,
   "id": "9bc8cc29",
   "metadata": {},
   "outputs": [],
   "source": [
    "col = ['feature16', 'feature17', 'feature18', 'feature19', 'feature20'] + columns_for_predict\n",
    "for_show = df[col]\n",
    "sns.pairplot(for_show)"
   ]
  },
  {
   "cell_type": "code",
   "execution_count": null,
   "id": "ef3d3c1f",
   "metadata": {},
   "outputs": [],
   "source": [
    "col = ['feature21', 'feature22', 'feature23', 'feature24'] + columns_for_predict\n",
    "for_show = df[col]\n",
    "sns.pairplot(for_show)"
   ]
  },
  {
   "cell_type": "code",
   "execution_count": null,
   "id": "70b15dec",
   "metadata": {},
   "outputs": [],
   "source": [
    "df['feature1'].value_counts()"
   ]
  },
  {
   "cell_type": "code",
   "execution_count": null,
   "id": "51b5daa7",
   "metadata": {},
   "outputs": [],
   "source": [
    "df['feature5'].value_counts()"
   ]
  },
  {
   "cell_type": "markdown",
   "id": "988f5311",
   "metadata": {},
   "source": [
    "feature 1 feature 5 не имеют не зависят на газ 1"
   ]
  }
 ],
 "metadata": {
  "kernelspec": {
   "display_name": "Python 3 (ipykernel)",
   "language": "python",
   "name": "python3"
  },
  "language_info": {
   "codemirror_mode": {
    "name": "ipython",
    "version": 3
   },
   "file_extension": ".py",
   "mimetype": "text/x-python",
   "name": "python",
   "nbconvert_exporter": "python",
   "pygments_lexer": "ipython3",
   "version": "3.10.9"
  },
  "toc": {
   "base_numbering": 1,
   "nav_menu": {},
   "number_sections": true,
   "sideBar": true,
   "skip_h1_title": false,
   "title_cell": "Table of Contents",
   "title_sidebar": "Contents",
   "toc_cell": false,
   "toc_position": {},
   "toc_section_display": true,
   "toc_window_display": false
  }
 },
 "nbformat": 4,
 "nbformat_minor": 5
}
